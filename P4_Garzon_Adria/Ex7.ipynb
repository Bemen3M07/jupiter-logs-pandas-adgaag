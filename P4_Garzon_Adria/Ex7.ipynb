{
 "cells": [
  {
   "cell_type": "code",
   "execution_count": 3,
   "id": "586c4ad7-1810-4966-8ffc-acf581ed1b46",
   "metadata": {},
   "outputs": [],
   "source": [
    "import logging\n",
    "import pandas as pd\n",
    "\n",
    "# Configurar el registre\n",
    "logging.basicConfig(filename='notes_alumnes.log', level=logging.INFO, format='%(asctime)s - %(levelname)s - %(message)s')\n",
    "\n",
    "# Intentem carregar el fitxer CSV\n",
    "try:\n",
    "    df = pd.read_csv(\"notes_alumnes.csv\")  # Intentem carregar el fitxer\n",
    "    logging.info(\"Fitxer carregat correctament!\")  # Es registra el carregament correcte\n",
    "except FileNotFoundError:\n",
    "    logging.error(\"Error: No s'ha trobat el fitxer 'notes_alumnes.csv'.\")  # Es registra l'error\n",
    "    exit() "
   ]
  },
  {
   "cell_type": "code",
   "execution_count": null,
   "id": "58cc2cf8-5232-4b9b-907b-70d567be680d",
   "metadata": {},
   "outputs": [],
   "source": []
  }
 ],
 "metadata": {
  "kernelspec": {
   "display_name": "Python 3 (ipykernel)",
   "language": "python",
   "name": "python3"
  },
  "language_info": {
   "codemirror_mode": {
    "name": "ipython",
    "version": 3
   },
   "file_extension": ".py",
   "mimetype": "text/x-python",
   "name": "python",
   "nbconvert_exporter": "python",
   "pygments_lexer": "ipython3",
   "version": "3.12.1"
  }
 },
 "nbformat": 4,
 "nbformat_minor": 5
}
