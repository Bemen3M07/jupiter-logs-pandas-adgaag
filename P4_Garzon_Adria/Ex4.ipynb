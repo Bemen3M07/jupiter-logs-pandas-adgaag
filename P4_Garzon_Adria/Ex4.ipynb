{
 "cells": [
  {
   "cell_type": "code",
   "execution_count": 1,
   "id": "e8673f30-ff81-4aa2-8171-46e0fe3b88a2",
   "metadata": {},
   "outputs": [
    {
     "name": "stdout",
     "output_type": "stream",
     "text": [
      "   Professor  Alumne  M01  M04  M03  M05\n",
      "0       Luis  Xavier    6    5    8    1\n",
      "1     Carlos    Marc    8    5    7    6\n",
      "2     Esther   Jaume    3    4    4    7\n",
      "3       Juan   Laura    6    3    1    1\n",
      "4    Beatriz   Jordi   10   10    9    2\n",
      "5     Felipe    Sara    5    3    5   10\n",
      "6     Raquel     Pau    2    9    0    8\n",
      "7     Manuel   Clara    8    7    5    2\n",
      "8     Silvia   Oriol    0    5    7   10\n",
      "9     Victor   David    9    0    2    1\n",
      "10  Santiago   Núria    2    9    9    7\n",
      "11       Eva  Miquel    3    6    4   10\n",
      "12     Pablo     Pol    8    7    5    3\n",
      "13     Lucía    Joan    6    0    9    4\n",
      "14  Fernando   Arnau    2    0    0    4\n",
      "15    Carmen    Anna   10    9   10    3\n",
      "16    Javier  Carles    3    7    6    8\n",
      "17    Teresa   Marta    3    4    9    5\n",
      "18   Antonio   Sònia   10    3    2   10\n",
      "19       Ana    Ivan    1    6    5    5\n"
     ]
    }
   ],
   "source": [
    "import pandas as pd\n",
    "import random\n",
    "\n",
    "# Professors\n",
    "professors = [\"Luis\", \"Carlos\", \"Esther\", \"Juan\", \"Beatriz\", \"Felipe\", \"Raquel\", \"Manuel\", \"Silvia\", \"Victor\", \n",
    "              \"Santiago\", \"Eva\", \"Pablo\", \"Lucía\", \"Fernando\", \"Carmen\", \"Javier\", \"Teresa\", \"Antonio\", \"Ana\"]\n",
    "\n",
    "# Alumnes\n",
    "alumnes = [\"Xavier\", \"Marc\", \"Jaume\", \"Laura\", \"Jordi\", \"Sara\", \"Pau\", \"Clara\", \"Oriol\", \"David\", \n",
    "           \"Núria\", \"Miquel\", \"Pol\", \"Joan\", \"Arnau\", \"Anna\", \"Carles\", \"Marta\", \"Sònia\", \"Ivan\"]\n",
    "\n",
    "# Notes\n",
    "notes = {\n",
    "    \"M01\": [random.randint(0, 10) for _ in range(20)],\n",
    "    \"M04\": [random.randint(0, 10) for _ in range(20)],\n",
    "    \"M03\": [random.randint(0, 10) for _ in range(20)],\n",
    "    \"M05\": [random.randint(0, 10) for _ in range(20)],\n",
    "}\n",
    "\n",
    "# Crear el DataFrame\n",
    "data = {\n",
    "    \"Professor\": [professors[i % len(professors)] for i in range(20)],\n",
    "    \"Alumne\": alumnes,\n",
    "    \"M01\": notes[\"M01\"],\n",
    "    \"M04\": notes[\"M04\"],\n",
    "    \"M03\": notes[\"M03\"],\n",
    "    \"M05\": notes[\"M05\"],\n",
    "}\n",
    "\n",
    "df = pd.DataFrame(data)\n",
    "\n",
    "# Guardar el DataFrame com a CSV\n",
    "df.to_csv(\"notes_alumnes.csv\", index=False)\n",
    "\n",
    "# Mostrar les dades\n",
    "print(df)"
   ]
  },
  {
   "cell_type": "code",
   "execution_count": null,
   "id": "9d1e2cb8-f414-4c42-afe1-498c6b2af4e9",
   "metadata": {},
   "outputs": [],
   "source": []
  }
 ],
 "metadata": {
  "kernelspec": {
   "display_name": "Python 3 (ipykernel)",
   "language": "python",
   "name": "python3"
  },
  "language_info": {
   "codemirror_mode": {
    "name": "ipython",
    "version": 3
   },
   "file_extension": ".py",
   "mimetype": "text/x-python",
   "name": "python",
   "nbconvert_exporter": "python",
   "pygments_lexer": "ipython3",
   "version": "3.12.1"
  }
 },
 "nbformat": 4,
 "nbformat_minor": 5
}
