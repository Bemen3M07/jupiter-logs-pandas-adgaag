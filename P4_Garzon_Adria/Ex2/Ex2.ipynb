{
 "cells": [
  {
   "cell_type": "code",
   "execution_count": 11,
   "id": "d8cab84f-783e-4321-b1b8-56c78e95a624",
   "metadata": {},
   "outputs": [
    {
     "name": "stdout",
     "output_type": "stream",
     "text": [
      "INFO - Aixó és un missatge d'info principal.\n",
      "INFO - Aixó és un missatge d'info principal.\n",
      "INFO - Aixó és un missatge d'info principal.\n",
      "INFO - Aixó és un missatge d'info principal.\n",
      "INFO - Aixó és un missatge d'info principal.\n",
      "INFO - Aixó és un missatge d'info principal.\n",
      "INFO - Aixó és un missatge d'info principal.\n",
      "INFO - Aixó és un missatge d'info principal.\n",
      "INFO - Aixó és un missatge d'info principal.\n",
      "INFO - Aixó és un missatge d'info principal.\n",
      "ERROR - Aixó és un missatge d'error principal.\n",
      "ERROR - Aixó és un missatge d'error principal.\n",
      "ERROR - Aixó és un missatge d'error principal.\n",
      "ERROR - Aixó és un missatge d'error principal.\n",
      "ERROR - Aixó és un missatge d'error principal.\n",
      "ERROR - Aixó és un missatge d'error principal.\n",
      "ERROR - Aixó és un missatge d'error principal.\n",
      "ERROR - Aixó és un missatge d'error principal.\n",
      "ERROR - Aixó és un missatge d'error principal.\n",
      "ERROR - Aixó és un missatge d'error principal.\n"
     ]
    }
   ],
   "source": [
    "import logging \n",
    "import logging.handlers\n",
    "import sys\n",
    "\n",
    "# Configuració del logger principal\n",
    "logger = logging.getLogger('logger')\n",
    "logger.setLevel(logging.DEBUG)\n",
    "\n",
    "# Handler per guardar els logs d'info en un fitxer\n",
    "info_handler = logging.FileHandler('logsinfo.log')\n",
    "info_handler.setLevel(logging.INFO)\n",
    "\n",
    "# Handler per guardar els logs d'error en un fitxer\n",
    "error_handler = logging.FileHandler('logserror.log')\n",
    "error_handler.setLevel(logging.ERROR)\n",
    "\n",
    "# Handler per mostrar els logs a la pantalla\n",
    "console_handler = logging.StreamHandler(sys.stdout)\n",
    "console_handler.setLevel(logging.INFO)\n",
    "\n",
    "# Formatadors\n",
    "info_formatter = logging.Formatter('%(asctime)s - %(levelname)s - %(message)s')\n",
    "error_formatter = logging.Formatter('%(asctime)s - %(levelname)s - %(message)s')\n",
    "console_formatter = logging.Formatter('%(levelname)s - %(message)s')\n",
    "\n",
    "# Assignem els formatadors als handlers\n",
    "info_handler.setFormatter(info_formatter)\n",
    "error_handler.setFormatter(error_formatter)\n",
    "console_handler.setFormatter(console_formatter)\n",
    "\n",
    "# Afegim els handlers al logger principal\n",
    "logger.addHandler(info_handler)\n",
    "logger.addHandler(error_handler)\n",
    "logger.addHandler(console_handler)\n",
    "\n",
    "# Creació d'un nou logger per generar logs en format CSV\n",
    "logger_csv = logging.getLogger('logger_csv')\n",
    "logger_csv.setLevel(logging.INFO)\n",
    "\n",
    "# Handler per guardar els logs en format CSV\n",
    "csv_file_handler = logging.FileHandler('logs_csv.csv')\n",
    "csv_file_handler.setLevel(logging.INFO)\n",
    "\n",
    "# Formatador per al CSV (formata com una línia CSV)\n",
    "csv_formatter = logging.Formatter('%(asctime)s,%(levelname)s,%(message)s')\n",
    "csv_file_handler.setFormatter(csv_formatter)\n",
    "\n",
    "# Afegim el handler CSV al logger CSV\n",
    "logger_csv.addHandler(csv_file_handler)\n",
    "\n",
    "# Funció per generar missatges de log\n",
    "def generar_logs():\n",
    "    logger.info('Aixó és un missatge d\\'info principal.')\n",
    "    logger.error('Aixó és un missatge d\\'error principal.')\n",
    "\n",
    "    # Nou logger per a logs en format CSV\n",
    "    logger_csv.info('Aixó és un missatge d\\'info en format CSV.')\n",
    "\n",
    "# Executar la generació dels logs\n",
    "generar_logs()\n"
   ]
  },
  {
   "cell_type": "code",
   "execution_count": null,
   "id": "38b2e5f2-e069-4e88-9268-ee9f4d6e92f0",
   "metadata": {},
   "outputs": [],
   "source": []
  }
 ],
 "metadata": {
  "kernelspec": {
   "display_name": "Python 3 (ipykernel)",
   "language": "python",
   "name": "python3"
  },
  "language_info": {
   "codemirror_mode": {
    "name": "ipython",
    "version": 3
   },
   "file_extension": ".py",
   "mimetype": "text/x-python",
   "name": "python",
   "nbconvert_exporter": "python",
   "pygments_lexer": "ipython3",
   "version": "3.12.1"
  }
 },
 "nbformat": 4,
 "nbformat_minor": 5
}
